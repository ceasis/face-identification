{
 "cells": [
  {
   "cell_type": "code",
   "execution_count": 1,
   "metadata": {},
   "outputs": [
    {
     "name": "stdout",
     "output_type": "stream",
     "text": [
      "Requirement already satisfied: pyautogui in c:\\users\\cholo\\appdata\\local\\programs\\python\\python310\\lib\\site-packages (0.9.54)\n",
      "Requirement already satisfied: opencv-python in c:\\users\\cholo\\appdata\\local\\programs\\python\\python310\\lib\\site-packages (4.8.1.78)\n",
      "Requirement already satisfied: opencv-python-headless in c:\\users\\cholo\\appdata\\local\\programs\\python\\python310\\lib\\site-packages (4.8.1.78)\n",
      "Requirement already satisfied: pymsgbox in c:\\users\\cholo\\appdata\\local\\programs\\python\\python310\\lib\\site-packages (from pyautogui) (1.0.9)\n",
      "Requirement already satisfied: pytweening>=1.0.4 in c:\\users\\cholo\\appdata\\local\\programs\\python\\python310\\lib\\site-packages (from pyautogui) (1.2.0)\n",
      "Requirement already satisfied: pyscreeze>=0.1.21 in c:\\users\\cholo\\appdata\\local\\programs\\python\\python310\\lib\\site-packages (from pyautogui) (0.1.30)\n",
      "Requirement already satisfied: pygetwindow>=0.0.5 in c:\\users\\cholo\\appdata\\local\\programs\\python\\python310\\lib\\site-packages (from pyautogui) (0.0.9)\n",
      "Requirement already satisfied: mouseinfo in c:\\users\\cholo\\appdata\\local\\programs\\python\\python310\\lib\\site-packages (from pyautogui) (0.1.3)\n",
      "Requirement already satisfied: numpy>=1.21.2 in c:\\users\\cholo\\appdata\\local\\programs\\python\\python310\\lib\\site-packages (from opencv-python) (1.23.5)\n",
      "Requirement already satisfied: pyrect in c:\\users\\cholo\\appdata\\local\\programs\\python\\python310\\lib\\site-packages (from pygetwindow>=0.0.5->pyautogui) (0.2.0)\n",
      "Requirement already satisfied: Pillow>=9.2.0 in c:\\users\\cholo\\appdata\\local\\programs\\python\\python310\\lib\\site-packages (from pyscreeze>=0.1.21->pyautogui) (10.0.0)\n",
      "Requirement already satisfied: pyperclip in c:\\users\\cholo\\appdata\\local\\programs\\python\\python310\\lib\\site-packages (from mouseinfo->pyautogui) (1.9.0)\n",
      "Note: you may need to restart the kernel to use updated packages.\n"
     ]
    },
    {
     "name": "stderr",
     "output_type": "stream",
     "text": [
      "\n",
      "[notice] A new release of pip is available: 24.0 -> 24.2\n",
      "[notice] To update, run: python.exe -m pip install --upgrade pip\n"
     ]
    },
    {
     "name": "stdout",
     "output_type": "stream",
     "text": [
      "Requirement already satisfied: mss in c:\\users\\cholo\\appdata\\local\\programs\\python\\python310\\lib\\site-packages (9.0.1)\n",
      "Requirement already satisfied: pillow in c:\\users\\cholo\\appdata\\local\\programs\\python\\python310\\lib\\site-packages (10.0.0)\n",
      "Requirement already satisfied: pyscreeze in c:\\users\\cholo\\appdata\\local\\programs\\python\\python310\\lib\\site-packages (0.1.30)\n",
      "Requirement already satisfied: pystray in c:\\users\\cholo\\appdata\\local\\programs\\python\\python310\\lib\\site-packages (0.19.5)\n",
      "Requirement already satisfied: six in c:\\users\\cholo\\appdata\\local\\programs\\python\\python310\\lib\\site-packages (from pystray) (1.16.0)\n",
      "Note: you may need to restart the kernel to use updated packages.\n"
     ]
    },
    {
     "name": "stderr",
     "output_type": "stream",
     "text": [
      "\n",
      "[notice] A new release of pip is available: 24.0 -> 24.2\n",
      "[notice] To update, run: python.exe -m pip install --upgrade pip\n"
     ]
    }
   ],
   "source": [
    "%pip install pyautogui opencv-python opencv-python-headless\n",
    "%pip install mss pillow pyscreeze pystray "
   ]
  },
  {
   "cell_type": "code",
   "execution_count": 2,
   "metadata": {},
   "outputs": [
    {
     "name": "stderr",
     "output_type": "stream",
     "text": [
      "Exception in thread Thread-9 (main_loop):\n",
      "Traceback (most recent call last):\n",
      "  File \"c:\\Users\\cholo\\AppData\\Local\\Programs\\Python\\Python310\\lib\\threading.py\", line 1016, in _bootstrap_inner\n",
      "    self.run()\n",
      "  File \"c:\\Users\\cholo\\AppData\\Local\\Programs\\Python\\Python310\\lib\\threading.py\", line 953, in run\n",
      "    self._target(*self._args, **self._kwargs)\n",
      "  File \"C:\\Users\\cholo\\AppData\\Local\\Temp\\ipykernel_15344\\1443996309.py\", line 42, in main_loop\n",
      "  File \"C:\\Users\\cholo\\AppData\\Local\\Temp\\ipykernel_15344\\1443996309.py\", line 24, in detect_faces\n",
      "cv2.error: OpenCV(4.8.1) d:\\a\\opencv-python\\opencv-python\\opencv\\modules\\imgproc\\src\\color.simd_helpers.hpp:92: error: (-2:Unspecified error) in function '__cdecl cv::impl::`anonymous-namespace'::CvtHelper<struct cv::impl::`anonymous namespace'::Set<3,4,-1>,struct cv::impl::A0xd8611878::Set<1,-1,-1>,struct cv::impl::A0xd8611878::Set<0,2,5>,3>::CvtHelper(const class cv::_InputArray &,const class cv::_OutputArray &,int)'\n",
      "> Invalid number of channels in input image:\n",
      ">     'VScn::contains(scn)'\n",
      "> where\n",
      ">     'scn' is 1\n",
      "\n"
     ]
    }
   ],
   "source": [
    "import cv2\n",
    "import numpy as np\n",
    "import mss\n",
    "import time\n",
    "import os\n",
    "import threading\n",
    "from PIL import Image, ImageDraw\n",
    "import pystray\n",
    "\n",
    "# Create a directory to save captured faces\n",
    "if not os.path.exists('captured_faces'):\n",
    "    os.makedirs('captured_faces')\n",
    "\n",
    "def capture_screen():\n",
    "    with mss.mss() as sct:\n",
    "        monitor = sct.monitors[1]\n",
    "        screenshot = sct.grab(monitor)\n",
    "        img = np.array(screenshot)\n",
    "        img_bgr = cv2.cvtColor(img, cv2.COLOR_RGB2BGR)\n",
    "        return img_bgr\n",
    "\n",
    "def detect_faces(image):\n",
    "    face_cascade = cv2.CascadeClassifier(cv2.data.haarcascades + 'haarcascade_frontalface_default.xml')\n",
    "    gray_image = cv2.cvtColor(image, cv2.COLOR_BGR2GRAY)\n",
    "    faces = face_cascade.detectMultiScale(gray_image, scaleFactor=1.1, minNeighbors=5, minSize=(30, 30))\n",
    "    return faces\n",
    "\n",
    "def save_faces(image, faces, frame_count):\n",
    "    for i, (x, y, w, h) in enumerate(faces):\n",
    "        face = image[y:y+h, x:x+w]\n",
    "        face_filename = f'captured_faces/face_{frame_count}_{i}.png'\n",
    "        cv2.imwrite(face_filename, face)\n",
    "\n",
    "def main_loop():\n",
    "    frame_count = 0\n",
    "    last_saved_time = time.time()\n",
    "    while not exit_event.is_set():\n",
    "        start_time = time.time()\n",
    "        current_time = time.time()\n",
    "\n",
    "        screen_image = capture_screen()\n",
    "        faces = detect_faces(screen_image)\n",
    "\n",
    "\n",
    "        if current_time - last_saved_time >= 5:  # Save faces every 1 second\n",
    "            save_faces(screen_image, faces, frame_count)\n",
    "            last_saved_time = current_time\n",
    "\n",
    "        # Draw rectangles around detected faces\n",
    "        for (x, y, w, h) in faces:\n",
    "            cv2.rectangle(screen_image, (x, y), (x + w, y + h), (0, 255, 0), 2)\n",
    "\n",
    "        # Show the image with detected faces\n",
    "        cv2.imshow('Detected Faces', screen_image)\n",
    "\n",
    "        frame_count += 1\n",
    "\n",
    "        end_time = time.time()\n",
    "        elapsed_time = end_time - start_time\n",
    "        delay = max(1, int((1/30 - elapsed_time) * 1000))  # Maintain ~30 FPS\n",
    "\n",
    "        if cv2.waitKey(delay) & 0xFF == ord('q'):\n",
    "            exit_event.set()\n",
    "            break\n",
    "\n",
    "    cv2.destroyAllWindows()\n",
    "\n",
    "def create_image():\n",
    "    # Generate an image for the system tray icon\n",
    "    width = 64\n",
    "    height = 64\n",
    "    color1 = \"white\"\n",
    "    color2 = \"black\"\n",
    "\n",
    "    image = Image.new(\"RGB\", (width, height), color1)\n",
    "    dc = ImageDraw.Draw(image)\n",
    "    dc.rectangle(\n",
    "        [(width // 2, 0), (width, height // 2)],\n",
    "        fill=color2)\n",
    "    dc.rectangle(\n",
    "        [(0, height // 2), (width // 2, height)],\n",
    "        fill=color2)\n",
    "\n",
    "    return image\n",
    "\n",
    "def on_quit(icon, item):\n",
    "    exit_event.set()\n",
    "    icon.stop()\n",
    "\n",
    "exit_event = threading.Event()\n",
    "\n",
    "icon = pystray.Icon(\"face_detector\")\n",
    "icon.menu = pystray.Menu(pystray.MenuItem(\"Quit\", on_quit))\n",
    "icon.icon = create_image()\n",
    "icon.title = \"Face Detector\"\n",
    "\n",
    "# Start the face detection loop in a separate thread\n",
    "detection_thread = threading.Thread(target=main_loop)\n",
    "detection_thread.start()\n",
    "\n",
    "# Run the system tray icon\n",
    "icon.run()\n",
    "\n",
    "# Wait for the detection thread to finish\n",
    "detection_thread.join()\n"
   ]
  }
 ],
 "metadata": {
  "kernelspec": {
   "display_name": "Python 3",
   "language": "python",
   "name": "python3"
  },
  "language_info": {
   "codemirror_mode": {
    "name": "ipython",
    "version": 3
   },
   "file_extension": ".py",
   "mimetype": "text/x-python",
   "name": "python",
   "nbconvert_exporter": "python",
   "pygments_lexer": "ipython3",
   "version": "3.10.11"
  }
 },
 "nbformat": 4,
 "nbformat_minor": 2
}
